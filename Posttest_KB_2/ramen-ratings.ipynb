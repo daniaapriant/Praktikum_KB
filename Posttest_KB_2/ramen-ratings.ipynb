{
  "metadata": {
    "kernelspec": {
      "name": "python",
      "display_name": "Python (Pyodide)",
      "language": "python"
    },
    "language_info": {
      "codemirror_mode": {
        "name": "python",
        "version": 3
      },
      "file_extension": ".py",
      "mimetype": "text/x-python",
      "name": "python",
      "nbconvert_exporter": "python",
      "pygments_lexer": "ipython3",
      "version": "3.8"
    }
  },
  "nbformat_minor": 5,
  "nbformat": 4,
  "cells": [
    {
      "cell_type": "code",
      "source": "import pandas as pd #import pandas sebagai libray yang akan di pakai di posttest 2 in\n\n# Baca dataset dari file CSV\ndf = pd.read_csv('ramen-ratings.csv')\ndf.head()",
      "metadata": {
        "trusted": true
      },
      "execution_count": 16,
      "outputs": [
        {
          "execution_count": 16,
          "output_type": "execute_result",
          "data": {
            "text/plain": "   Review #           Brand  \\\n0      2580       New Touch   \n1      2579        Just Way   \n2      2578          Nissin   \n3      2577         Wei Lih   \n4      2576  Ching's Secret   \n\n                                             Variety Style Country Stars  \\\n0                          T's Restaurant Tantanmen    Cup   Japan  3.75   \n1  Noodles Spicy Hot Sesame Spicy Hot Sesame Guan...  Pack  Taiwan     1   \n2                      Cup Noodles Chicken Vegetable   Cup     USA  2.25   \n3                      GGE Ramen Snack Tomato Flavor  Pack  Taiwan  2.75   \n4                                    Singapore Curry  Pack   India  3.75   \n\n  Top Ten  \n0     NaN  \n1     NaN  \n2     NaN  \n3     NaN  \n4     NaN  ",
            "text/html": "<div>\n<style scoped>\n    .dataframe tbody tr th:only-of-type {\n        vertical-align: middle;\n    }\n\n    .dataframe tbody tr th {\n        vertical-align: top;\n    }\n\n    .dataframe thead th {\n        text-align: right;\n    }\n</style>\n<table border=\"1\" class=\"dataframe\">\n  <thead>\n    <tr style=\"text-align: right;\">\n      <th></th>\n      <th>Review #</th>\n      <th>Brand</th>\n      <th>Variety</th>\n      <th>Style</th>\n      <th>Country</th>\n      <th>Stars</th>\n      <th>Top Ten</th>\n    </tr>\n  </thead>\n  <tbody>\n    <tr>\n      <th>0</th>\n      <td>2580</td>\n      <td>New Touch</td>\n      <td>T's Restaurant Tantanmen</td>\n      <td>Cup</td>\n      <td>Japan</td>\n      <td>3.75</td>\n      <td>NaN</td>\n    </tr>\n    <tr>\n      <th>1</th>\n      <td>2579</td>\n      <td>Just Way</td>\n      <td>Noodles Spicy Hot Sesame Spicy Hot Sesame Guan...</td>\n      <td>Pack</td>\n      <td>Taiwan</td>\n      <td>1</td>\n      <td>NaN</td>\n    </tr>\n    <tr>\n      <th>2</th>\n      <td>2578</td>\n      <td>Nissin</td>\n      <td>Cup Noodles Chicken Vegetable</td>\n      <td>Cup</td>\n      <td>USA</td>\n      <td>2.25</td>\n      <td>NaN</td>\n    </tr>\n    <tr>\n      <th>3</th>\n      <td>2577</td>\n      <td>Wei Lih</td>\n      <td>GGE Ramen Snack Tomato Flavor</td>\n      <td>Pack</td>\n      <td>Taiwan</td>\n      <td>2.75</td>\n      <td>NaN</td>\n    </tr>\n    <tr>\n      <th>4</th>\n      <td>2576</td>\n      <td>Ching's Secret</td>\n      <td>Singapore Curry</td>\n      <td>Pack</td>\n      <td>India</td>\n      <td>3.75</td>\n      <td>NaN</td>\n    </tr>\n  </tbody>\n</table>\n</div>"
          },
          "metadata": {}
        }
      ],
      "id": "fa277750-1907-4d9b-be71-ee72bda786aa"
    },
    {
      "cell_type": "code",
      "source": "#Tampilkan rata-rata, standar deviasi, nilai minimum, nilai maksimum, Q1, Q2, dan Q3 dari attribute bertipe angka.\n\ndf.describe().loc[['mean', 'std', 'max', '25%', '50%', '75%']]",
      "metadata": {
        "trusted": true
      },
      "execution_count": 20,
      "outputs": [
        {
          "execution_count": 20,
          "output_type": "execute_result",
          "data": {
            "text/plain": "         Review #\nmean  1290.500000\nstd    744.926171\nmax   2580.000000\n25%    645.750000\n50%   1290.500000\n75%   1935.250000",
            "text/html": "<div>\n<style scoped>\n    .dataframe tbody tr th:only-of-type {\n        vertical-align: middle;\n    }\n\n    .dataframe tbody tr th {\n        vertical-align: top;\n    }\n\n    .dataframe thead th {\n        text-align: right;\n    }\n</style>\n<table border=\"1\" class=\"dataframe\">\n  <thead>\n    <tr style=\"text-align: right;\">\n      <th></th>\n      <th>Review #</th>\n    </tr>\n  </thead>\n  <tbody>\n    <tr>\n      <th>mean</th>\n      <td>1290.500000</td>\n    </tr>\n    <tr>\n      <th>std</th>\n      <td>744.926171</td>\n    </tr>\n    <tr>\n      <th>max</th>\n      <td>2580.000000</td>\n    </tr>\n    <tr>\n      <th>25%</th>\n      <td>645.750000</td>\n    </tr>\n    <tr>\n      <th>50%</th>\n      <td>1290.500000</td>\n    </tr>\n    <tr>\n      <th>75%</th>\n      <td>1935.250000</td>\n    </tr>\n  </tbody>\n</table>\n</div>"
          },
          "metadata": {}
        }
      ],
      "id": "f9f78d62-a004-4b08-a1a6-c897c12169e5"
    },
    {
      "cell_type": "code",
      "source": "#Tampilkan 10 record pertama dari dataset dengan attribute bertipe angka.\n\nkolom_angka = df.select_dtypes(include=['int', 'float'])\nkolom_angka= df[['Stars']]\ndf.head(10)",
      "metadata": {
        "trusted": true
      },
      "execution_count": 25,
      "outputs": [
        {
          "execution_count": 25,
          "output_type": "execute_result",
          "data": {
            "text/plain": "   Review #           Brand  \\\n0      2580       New Touch   \n1      2579        Just Way   \n2      2578          Nissin   \n3      2577         Wei Lih   \n4      2576  Ching's Secret   \n5      2575   Samyang Foods   \n6      2574         Acecook   \n7      2573     Ikeda Shoku   \n8      2572      Ripe'n'Dry   \n9      2571            KOKA   \n\n                                             Variety Style      Country Stars  \\\n0                          T's Restaurant Tantanmen    Cup        Japan  3.75   \n1  Noodles Spicy Hot Sesame Spicy Hot Sesame Guan...  Pack       Taiwan     1   \n2                      Cup Noodles Chicken Vegetable   Cup          USA  2.25   \n3                      GGE Ramen Snack Tomato Flavor  Pack       Taiwan  2.75   \n4                                    Singapore Curry  Pack        India  3.75   \n5                             Kimchi song Song Ramen  Pack  South Korea  4.75   \n6                Spice Deli Tantan Men With Cilantro   Cup        Japan     4   \n7                              Nabeyaki Kitsune Udon  Tray        Japan  3.75   \n8                           Hokkaido Soy Sauce Ramen  Pack        Japan  0.25   \n9              The Original Spicy Stir-Fried Noodles  Pack    Singapore   2.5   \n\n  Top Ten  \n0     NaN  \n1     NaN  \n2     NaN  \n3     NaN  \n4     NaN  \n5     NaN  \n6     NaN  \n7     NaN  \n8     NaN  \n9     NaN  ",
            "text/html": "<div>\n<style scoped>\n    .dataframe tbody tr th:only-of-type {\n        vertical-align: middle;\n    }\n\n    .dataframe tbody tr th {\n        vertical-align: top;\n    }\n\n    .dataframe thead th {\n        text-align: right;\n    }\n</style>\n<table border=\"1\" class=\"dataframe\">\n  <thead>\n    <tr style=\"text-align: right;\">\n      <th></th>\n      <th>Review #</th>\n      <th>Brand</th>\n      <th>Variety</th>\n      <th>Style</th>\n      <th>Country</th>\n      <th>Stars</th>\n      <th>Top Ten</th>\n    </tr>\n  </thead>\n  <tbody>\n    <tr>\n      <th>0</th>\n      <td>2580</td>\n      <td>New Touch</td>\n      <td>T's Restaurant Tantanmen</td>\n      <td>Cup</td>\n      <td>Japan</td>\n      <td>3.75</td>\n      <td>NaN</td>\n    </tr>\n    <tr>\n      <th>1</th>\n      <td>2579</td>\n      <td>Just Way</td>\n      <td>Noodles Spicy Hot Sesame Spicy Hot Sesame Guan...</td>\n      <td>Pack</td>\n      <td>Taiwan</td>\n      <td>1</td>\n      <td>NaN</td>\n    </tr>\n    <tr>\n      <th>2</th>\n      <td>2578</td>\n      <td>Nissin</td>\n      <td>Cup Noodles Chicken Vegetable</td>\n      <td>Cup</td>\n      <td>USA</td>\n      <td>2.25</td>\n      <td>NaN</td>\n    </tr>\n    <tr>\n      <th>3</th>\n      <td>2577</td>\n      <td>Wei Lih</td>\n      <td>GGE Ramen Snack Tomato Flavor</td>\n      <td>Pack</td>\n      <td>Taiwan</td>\n      <td>2.75</td>\n      <td>NaN</td>\n    </tr>\n    <tr>\n      <th>4</th>\n      <td>2576</td>\n      <td>Ching's Secret</td>\n      <td>Singapore Curry</td>\n      <td>Pack</td>\n      <td>India</td>\n      <td>3.75</td>\n      <td>NaN</td>\n    </tr>\n    <tr>\n      <th>5</th>\n      <td>2575</td>\n      <td>Samyang Foods</td>\n      <td>Kimchi song Song Ramen</td>\n      <td>Pack</td>\n      <td>South Korea</td>\n      <td>4.75</td>\n      <td>NaN</td>\n    </tr>\n    <tr>\n      <th>6</th>\n      <td>2574</td>\n      <td>Acecook</td>\n      <td>Spice Deli Tantan Men With Cilantro</td>\n      <td>Cup</td>\n      <td>Japan</td>\n      <td>4</td>\n      <td>NaN</td>\n    </tr>\n    <tr>\n      <th>7</th>\n      <td>2573</td>\n      <td>Ikeda Shoku</td>\n      <td>Nabeyaki Kitsune Udon</td>\n      <td>Tray</td>\n      <td>Japan</td>\n      <td>3.75</td>\n      <td>NaN</td>\n    </tr>\n    <tr>\n      <th>8</th>\n      <td>2572</td>\n      <td>Ripe'n'Dry</td>\n      <td>Hokkaido Soy Sauce Ramen</td>\n      <td>Pack</td>\n      <td>Japan</td>\n      <td>0.25</td>\n      <td>NaN</td>\n    </tr>\n    <tr>\n      <th>9</th>\n      <td>2571</td>\n      <td>KOKA</td>\n      <td>The Original Spicy Stir-Fried Noodles</td>\n      <td>Pack</td>\n      <td>Singapore</td>\n      <td>2.5</td>\n      <td>NaN</td>\n    </tr>\n  </tbody>\n</table>\n</div>"
          },
          "metadata": {}
        }
      ],
      "id": "9d21293d-9aeb-45c5-ac73-d86e72c576fc"
    },
    {
      "cell_type": "code",
      "source": "#Tampilkan informasi jumlah record, jumlah attribute, nama attribute, jumlah attribute dengan tipe angka. Masukkan informasi tersebut dalam dictionary dengan key sesuai nama informasinya. Tampilkan isi dari dictionary tersebut sebagus mungkin.\n\nnum_attributes = len(df.columns)\nattribute_names = list(df.columns)\nnumeric_attributes = len(df.select_dtypes(include=['number']).columns)\ninfo_dict = {\n    'Jumlah Record'                   : num_records,\n    'Jumlah Atribut'                  : num_attributes,\n    'Nama Atribut'                    : attribute_names,\n    'Jumlah Atribut dengan Tipe Angka': numeric_attributes\n}\nfor key, value in info_dict.items():\n    print(f'{key}: {value}')",
      "metadata": {
        "trusted": true
      },
      "execution_count": 26,
      "outputs": [
        {
          "name": "stdout",
          "text": "Jumlah Record: 2580\nJumlah Atribut: 7\nNama Atribut: ['Review #', 'Brand', 'Variety', 'Style', 'Country', 'Stars', 'Top Ten']\nJumlah Atribut dengan Tipe Angka: 1\n",
          "output_type": "stream"
        }
      ],
      "id": "8c77a9b8-0517-46ec-b3b5-d8013ee9241d"
    },
    {
      "cell_type": "code",
      "source": "#Tampilkan nilai dataset pada baris dimulai dengan 3 digit NIM akhir hingga data terakhir dan kolom ke 4 hingga kolom terakhir menggunakan ke 2 metode slice.\n\ndf.iloc[92:, 3:]",
      "metadata": {
        "trusted": true
      },
      "execution_count": 27,
      "outputs": [
        {
          "execution_count": 27,
          "output_type": "execute_result",
          "data": {
            "text/plain": "     Style   Country Stars Top Ten\n92    Pack   Germany  3.75     NaN\n93     Cup   Germany   4.5     NaN\n94    Pack   Germany   3.5     NaN\n95     Cup   Germany     3     NaN\n96    Pack   Germany     4     NaN\n...    ...       ...   ...     ...\n2575  Bowl   Vietnam   3.5     NaN\n2576  Pack  Thailand     1     NaN\n2577  Pack  Thailand     2     NaN\n2578  Pack  Thailand     2     NaN\n2579  Pack       USA   0.5     NaN\n\n[2488 rows x 4 columns]",
            "text/html": "<div>\n<style scoped>\n    .dataframe tbody tr th:only-of-type {\n        vertical-align: middle;\n    }\n\n    .dataframe tbody tr th {\n        vertical-align: top;\n    }\n\n    .dataframe thead th {\n        text-align: right;\n    }\n</style>\n<table border=\"1\" class=\"dataframe\">\n  <thead>\n    <tr style=\"text-align: right;\">\n      <th></th>\n      <th>Style</th>\n      <th>Country</th>\n      <th>Stars</th>\n      <th>Top Ten</th>\n    </tr>\n  </thead>\n  <tbody>\n    <tr>\n      <th>92</th>\n      <td>Pack</td>\n      <td>Germany</td>\n      <td>3.75</td>\n      <td>NaN</td>\n    </tr>\n    <tr>\n      <th>93</th>\n      <td>Cup</td>\n      <td>Germany</td>\n      <td>4.5</td>\n      <td>NaN</td>\n    </tr>\n    <tr>\n      <th>94</th>\n      <td>Pack</td>\n      <td>Germany</td>\n      <td>3.5</td>\n      <td>NaN</td>\n    </tr>\n    <tr>\n      <th>95</th>\n      <td>Cup</td>\n      <td>Germany</td>\n      <td>3</td>\n      <td>NaN</td>\n    </tr>\n    <tr>\n      <th>96</th>\n      <td>Pack</td>\n      <td>Germany</td>\n      <td>4</td>\n      <td>NaN</td>\n    </tr>\n    <tr>\n      <th>...</th>\n      <td>...</td>\n      <td>...</td>\n      <td>...</td>\n      <td>...</td>\n    </tr>\n    <tr>\n      <th>2575</th>\n      <td>Bowl</td>\n      <td>Vietnam</td>\n      <td>3.5</td>\n      <td>NaN</td>\n    </tr>\n    <tr>\n      <th>2576</th>\n      <td>Pack</td>\n      <td>Thailand</td>\n      <td>1</td>\n      <td>NaN</td>\n    </tr>\n    <tr>\n      <th>2577</th>\n      <td>Pack</td>\n      <td>Thailand</td>\n      <td>2</td>\n      <td>NaN</td>\n    </tr>\n    <tr>\n      <th>2578</th>\n      <td>Pack</td>\n      <td>Thailand</td>\n      <td>2</td>\n      <td>NaN</td>\n    </tr>\n    <tr>\n      <th>2579</th>\n      <td>Pack</td>\n      <td>USA</td>\n      <td>0.5</td>\n      <td>NaN</td>\n    </tr>\n  </tbody>\n</table>\n<p>2488 rows × 4 columns</p>\n</div>"
          },
          "metadata": {}
        }
      ],
      "id": "e25978c4-49f9-4aed-9d9c-339c95e14c7c"
    },
    {
      "cell_type": "code",
      "source": "#Tampilkan jumlah label dari semua attribute yang bernilai object (contoh : Jenis Kelamin, Agama).\n\nobjectList = df.select_dtypes(include=['object']).columns.tolist()\nobjectList.pop(0)\n\nfor i in objectList:\n    print(df[i].value_counts())",
      "metadata": {
        "trusted": true
      },
      "execution_count": 28,
      "outputs": [
        {
          "name": "stdout",
          "text": "Beef                                              7\nChicken                                           7\nYakisoba                                          6\nArtificial Chicken                                6\nVegetable                                         6\n                                                 ..\nOh! Ricey Pho Ga                                  1\nVeggie Noodle Black Sesame Noodle                 1\nNuudeli Liha Nudlar Kott                          1\nArtificial Beef Instant Noodles With Soup Base    1\nTom Yum Chili Flavor                              1\nName: Variety, Length: 2413, dtype: int64\nPack    1531\nBowl     481\nCup      450\nTray     108\nBox        6\nCan        1\nBar        1\nName: Style, dtype: int64\nJapan            352\nUSA              323\nSouth Korea      309\nTaiwan           224\nThailand         191\nChina            169\nMalaysia         156\nHong Kong        137\nIndonesia        126\nSingapore        109\nVietnam          108\nUK                69\nPhilippines       47\nCanada            41\nIndia             31\nGermany           27\nMexico            25\nAustralia         22\nNetherlands       15\nMyanmar           14\nNepal             14\nPakistan           9\nHungary            9\nBangladesh         7\nColombia           6\nBrazil             5\nCambodia           5\nFiji               4\nHolland            4\nPoland             4\nFinland            3\nSarawak            3\nSweden             3\nDubai              3\nGhana              2\nEstonia            2\nNigeria            1\nUnited States      1\nName: Country, dtype: int64\n4          384\n5          369\n3.75       350\n3.5        326\n3          173\n3.25       170\n4.25       143\n4.5        132\n2.75        85\n2           68\n2.5         67\n4.75        64\n1.5         37\n1.75        27\n1           26\n0           26\n2.25        21\n0.5         14\n0.25        11\n1.25        10\n5.0         10\n3.50         9\n5.00         7\n4.00         6\n4.3          4\n3.8          3\n4.0          3\n4.50         3\nUnrated      3\n1.1          2\n2.8          2\n2.9          2\n4.125        2\n2.3          2\n3.1          2\n3.0          2\n2.1          1\n0.9          1\n0.75         1\n3.125        1\n2.125        1\n3.00         1\n0.1          1\n3.3          1\n3.7          1\n3.4          1\n3.6          1\n2.85         1\n3.2          1\n3.65         1\n1.8          1\nName: Stars, dtype: int64\n\\n          4\n2016 #10    1\n2012 #10    1\n2014 #1     1\n2013 #1     1\n2013 #2     1\n2013 #4     1\n2013 #9     1\n2013 #3     1\n2012 #7     1\n2016 #1     1\n2012 #5     1\n2012 #3     1\n2012 #6     1\n2012 #9     1\n2012 #1     1\n2012 #2     1\n2013 #6     1\n2014 #6     1\n2014 #5     1\n2014 #8     1\n2014 #10    1\n2016 #8     1\n2016 #5     1\n2016 #9     1\n2016 #7     1\n2015 #10    1\n2015 #7     1\n2015 #4     1\n2015 #9     1\n2015 #6     1\n2015 #1     1\n2013 #10    1\n2015 #8     1\n2014 #7     1\n2014 #4     1\n2014 #9     1\n2012 #4     1\nName: Top Ten, dtype: int64\n",
          "output_type": "stream"
        }
      ],
      "id": "cf1f0421-8af3-4c86-bbb1-65882fef2269"
    },
    {
      "cell_type": "code",
      "source": "# Pilih atribut yang bernilai objek\natribut_objek = df.select_dtypes(include=['object'])\n\n# Hitung jumlah label yang unik pada setiap atribut yang bernilai objek\njumlah_label = atribut_objek.nunique()\n\n# Tampilkan hasil\nprint(\"Jumlah label dari semua atribut yang bernilai objek:\")\nprint(jumlah_label)",
      "metadata": {
        "trusted": true
      },
      "execution_count": 29,
      "outputs": [
        {
          "name": "stdout",
          "text": "Jumlah label dari semua atribut yang bernilai objek:\nBrand       355\nVariety    2413\nStyle         7\nCountry      38\nStars        51\nTop Ten      38\ndtype: int64\n",
          "output_type": "stream"
        }
      ],
      "id": "caa36acc-f12a-4602-850e-959bc86b2506"
    },
    {
      "cell_type": "code",
      "source": "",
      "metadata": {},
      "execution_count": null,
      "outputs": [],
      "id": "722679c2-fa54-4def-b83f-4602417bcaaa"
    }
  ]
}