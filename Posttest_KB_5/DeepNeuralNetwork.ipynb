{
 "cells": [
  {
   "cell_type": "code",
   "execution_count": 6,
   "id": "66bb1ad7-b8c6-4607-8b51-228d8b191444",
   "metadata": {},
   "outputs": [],
   "source": [
    "import tensorflow as tf\n",
    "from tensorflow.keras import Sequential, layers, optimizers, datasets \n",
    "import matplotlib.pyplot as lt\n",
    "import numpy as np\n",
    "import pandas as pd"
   ]
  },
  {
   "cell_type": "markdown",
   "id": "65b8b036-8ae8-47d2-bc1d-e12b952243f3",
   "metadata": {},
   "source": [
    "# Hello World Dnn"
   ]
  },
  {
   "cell_type": "code",
   "execution_count": 8,
   "id": "b563f6f7-da7c-43f7-9b75-b8e0742c41bd",
   "metadata": {},
   "outputs": [],
   "source": [
    "x = [1.0,2.0,3.0,5.0,6.0]\n",
    "y = [5.0, 10.0, 15.0, 25.0, 30.0]"
   ]
  },
  {
   "cell_type": "code",
   "execution_count": 10,
   "id": "acd9aa93-f2b9-4d20-96cf-400ee2788c67",
   "metadata": {},
   "outputs": [],
   "source": [
    "model= Sequential([\n",
    "    layers.Dense(1,input_shape = [1])\n",
    "])"
   ]
  },
  {
   "cell_type": "code",
   "execution_count": 17,
   "id": "511a358e-450f-4567-bcfc-3fb9e0704c6a",
   "metadata": {},
   "outputs": [],
   "source": [
    "model.compile(optimizer='Adam', loss= 'mae')"
   ]
  },
  {
   "cell_type": "code",
   "execution_count": 18,
   "id": "3e3945ef-8ff8-4ffb-a0bb-e2cc0301f81f",
   "metadata": {},
   "outputs": [
    {
     "name": "stdout",
     "output_type": "stream",
     "text": [
      "Epoch 1/100\n",
      "1/1 [==============================] - 0s 246ms/step - loss: 0.0278\n",
      "Epoch 2/100\n",
      "1/1 [==============================] - 0s 5ms/step - loss: 0.0234\n",
      "Epoch 3/100\n",
      "1/1 [==============================] - 0s 6ms/step - loss: 0.0190\n",
      "Epoch 4/100\n",
      "1/1 [==============================] - 0s 4ms/step - loss: 0.0168\n",
      "Epoch 5/100\n",
      "1/1 [==============================] - 0s 6ms/step - loss: 0.0167\n",
      "Epoch 6/100\n",
      "1/1 [==============================] - 0s 4ms/step - loss: 0.0172\n",
      "Epoch 7/100\n",
      "1/1 [==============================] - 0s 4ms/step - loss: 0.0175\n",
      "Epoch 8/100\n",
      "1/1 [==============================] - 0s 4ms/step - loss: 0.0177\n",
      "Epoch 9/100\n",
      "1/1 [==============================] - 0s 4ms/step - loss: 0.0177\n",
      "Epoch 10/100\n",
      "1/1 [==============================] - 0s 6ms/step - loss: 0.0177\n",
      "Epoch 11/100\n",
      "1/1 [==============================] - 0s 5ms/step - loss: 0.0176\n",
      "Epoch 12/100\n",
      "1/1 [==============================] - 0s 6ms/step - loss: 0.0174\n",
      "Epoch 13/100\n",
      "1/1 [==============================] - 0s 4ms/step - loss: 0.0172\n",
      "Epoch 14/100\n",
      "1/1 [==============================] - 0s 4ms/step - loss: 0.0169\n",
      "Epoch 15/100\n",
      "1/1 [==============================] - 0s 6ms/step - loss: 0.0165\n",
      "Epoch 16/100\n",
      "1/1 [==============================] - 0s 5ms/step - loss: 0.0161\n",
      "Epoch 17/100\n",
      "1/1 [==============================] - 0s 7ms/step - loss: 0.0157\n",
      "Epoch 18/100\n",
      "1/1 [==============================] - 0s 4ms/step - loss: 0.0152\n",
      "Epoch 19/100\n",
      "1/1 [==============================] - 0s 5ms/step - loss: 0.0147\n",
      "Epoch 20/100\n",
      "1/1 [==============================] - 0s 5ms/step - loss: 0.0142\n",
      "Epoch 21/100\n",
      "1/1 [==============================] - 0s 6ms/step - loss: 0.0136\n",
      "Epoch 22/100\n",
      "1/1 [==============================] - 0s 4ms/step - loss: 0.0130\n",
      "Epoch 23/100\n",
      "1/1 [==============================] - 0s 4ms/step - loss: 0.0124\n",
      "Epoch 24/100\n",
      "1/1 [==============================] - 0s 6ms/step - loss: 0.0117\n",
      "Epoch 25/100\n",
      "1/1 [==============================] - 0s 7ms/step - loss: 0.0111\n",
      "Epoch 26/100\n",
      "1/1 [==============================] - 0s 5ms/step - loss: 0.0111\n",
      "Epoch 27/100\n",
      "1/1 [==============================] - 0s 5ms/step - loss: 0.0112\n",
      "Epoch 28/100\n",
      "1/1 [==============================] - 0s 4ms/step - loss: 0.0111\n",
      "Epoch 29/100\n",
      "1/1 [==============================] - 0s 6ms/step - loss: 0.0106\n",
      "Epoch 30/100\n",
      "1/1 [==============================] - 0s 4ms/step - loss: 0.0101\n",
      "Epoch 31/100\n",
      "1/1 [==============================] - 0s 7ms/step - loss: 0.0095\n",
      "Epoch 32/100\n",
      "1/1 [==============================] - 0s 5ms/step - loss: 0.0089\n",
      "Epoch 33/100\n",
      "1/1 [==============================] - 0s 9ms/step - loss: 0.0088\n",
      "Epoch 34/100\n",
      "1/1 [==============================] - 0s 5ms/step - loss: 0.0086\n",
      "Epoch 35/100\n",
      "1/1 [==============================] - 0s 5ms/step - loss: 0.0084\n",
      "Epoch 36/100\n",
      "1/1 [==============================] - 0s 5ms/step - loss: 0.0081\n",
      "Epoch 37/100\n",
      "1/1 [==============================] - 0s 8ms/step - loss: 0.0077\n",
      "Epoch 38/100\n",
      "1/1 [==============================] - 0s 8ms/step - loss: 0.0073\n",
      "Epoch 39/100\n",
      "1/1 [==============================] - 0s 4ms/step - loss: 0.0069\n",
      "Epoch 40/100\n",
      "1/1 [==============================] - 0s 4ms/step - loss: 0.0064\n",
      "Epoch 41/100\n",
      "1/1 [==============================] - 0s 4ms/step - loss: 0.0062\n",
      "Epoch 42/100\n",
      "1/1 [==============================] - 0s 4ms/step - loss: 0.0060\n",
      "Epoch 43/100\n",
      "1/1 [==============================] - 0s 5ms/step - loss: 0.0057\n",
      "Epoch 44/100\n",
      "1/1 [==============================] - 0s 8ms/step - loss: 0.0053\n",
      "Epoch 45/100\n",
      "1/1 [==============================] - 0s 5ms/step - loss: 0.0048\n",
      "Epoch 46/100\n",
      "1/1 [==============================] - 0s 5ms/step - loss: 0.0045\n",
      "Epoch 47/100\n",
      "1/1 [==============================] - 0s 5ms/step - loss: 0.0042\n",
      "Epoch 48/100\n",
      "1/1 [==============================] - 0s 4ms/step - loss: 0.0039\n",
      "Epoch 49/100\n",
      "1/1 [==============================] - 0s 4ms/step - loss: 0.0035\n",
      "Epoch 50/100\n",
      "1/1 [==============================] - 0s 5ms/step - loss: 0.0031\n",
      "Epoch 51/100\n",
      "1/1 [==============================] - 0s 7ms/step - loss: 0.0029\n",
      "Epoch 52/100\n",
      "1/1 [==============================] - 0s 5ms/step - loss: 0.0026\n",
      "Epoch 53/100\n",
      "1/1 [==============================] - 0s 4ms/step - loss: 0.0022\n",
      "Epoch 54/100\n",
      "1/1 [==============================] - 0s 4ms/step - loss: 0.0018\n",
      "Epoch 55/100\n",
      "1/1 [==============================] - 0s 6ms/step - loss: 0.0017\n",
      "Epoch 56/100\n",
      "1/1 [==============================] - 0s 10ms/step - loss: 0.0012\n",
      "Epoch 57/100\n",
      "1/1 [==============================] - 0s 5ms/step - loss: 9.2154e-04\n",
      "Epoch 58/100\n",
      "1/1 [==============================] - 0s 5ms/step - loss: 6.1054e-04\n",
      "Epoch 59/100\n",
      "1/1 [==============================] - 0s 4ms/step - loss: 2.4672e-04\n",
      "Epoch 60/100\n",
      "1/1 [==============================] - 0s 8ms/step - loss: 2.0456e-04\n",
      "Epoch 61/100\n",
      "1/1 [==============================] - 0s 8ms/step - loss: 3.9387e-04\n",
      "Epoch 62/100\n",
      "1/1 [==============================] - 0s 5ms/step - loss: 6.2399e-04\n",
      "Epoch 63/100\n",
      "1/1 [==============================] - 0s 5ms/step - loss: 7.5998e-04\n",
      "Epoch 64/100\n",
      "1/1 [==============================] - 0s 5ms/step - loss: 0.0010\n",
      "Epoch 65/100\n",
      "1/1 [==============================] - 0s 8ms/step - loss: 0.0010\n",
      "Epoch 66/100\n",
      "1/1 [==============================] - 0s 5ms/step - loss: 0.0012\n",
      "Epoch 67/100\n",
      "1/1 [==============================] - 0s 5ms/step - loss: 0.0012\n",
      "Epoch 68/100\n",
      "1/1 [==============================] - 0s 6ms/step - loss: 0.0011\n",
      "Epoch 69/100\n",
      "1/1 [==============================] - 0s 5ms/step - loss: 0.0010\n",
      "Epoch 70/100\n",
      "1/1 [==============================] - 0s 7ms/step - loss: 8.2235e-04\n",
      "Epoch 71/100\n",
      "1/1 [==============================] - 0s 6ms/step - loss: 9.1686e-04\n",
      "Epoch 72/100\n",
      "1/1 [==============================] - 0s 5ms/step - loss: 5.3434e-04\n",
      "Epoch 73/100\n",
      "1/1 [==============================] - 0s 5ms/step - loss: 4.2601e-04\n",
      "Epoch 74/100\n",
      "1/1 [==============================] - 0s 6ms/step - loss: 2.4967e-04\n",
      "Epoch 75/100\n",
      "1/1 [==============================] - 0s 8ms/step - loss: 9.0408e-05\n",
      "Epoch 76/100\n",
      "1/1 [==============================] - 0s 5ms/step - loss: 8.1968e-04\n",
      "Epoch 77/100\n",
      "1/1 [==============================] - 0s 5ms/step - loss: 6.3610e-04\n",
      "Epoch 78/100\n",
      "1/1 [==============================] - 0s 5ms/step - loss: 6.9408e-04\n",
      "Epoch 79/100\n",
      "1/1 [==============================] - 0s 4ms/step - loss: 0.0011\n",
      "Epoch 80/100\n",
      "1/1 [==============================] - 0s 8ms/step - loss: 9.0895e-04\n",
      "Epoch 81/100\n",
      "1/1 [==============================] - 0s 5ms/step - loss: 6.1922e-04\n",
      "Epoch 82/100\n",
      "1/1 [==============================] - 0s 7ms/step - loss: 0.0011\n",
      "Epoch 83/100\n",
      "1/1 [==============================] - 0s 6ms/step - loss: 0.0010\n",
      "Epoch 84/100\n",
      "1/1 [==============================] - 0s 4ms/step - loss: 5.9576e-04\n",
      "Epoch 85/100\n",
      "1/1 [==============================] - 0s 6ms/step - loss: 9.1391e-04\n",
      "Epoch 86/100\n",
      "1/1 [==============================] - 0s 7ms/step - loss: 8.1844e-04\n",
      "Epoch 87/100\n",
      "1/1 [==============================] - 0s 5ms/step - loss: 3.6573e-04\n",
      "Epoch 88/100\n",
      "1/1 [==============================] - 0s 6ms/step - loss: 9.7151e-04\n",
      "Epoch 89/100\n",
      "1/1 [==============================] - 0s 5ms/step - loss: 8.6374e-04\n",
      "Epoch 90/100\n",
      "1/1 [==============================] - 0s 5ms/step - loss: 1.1559e-04\n",
      "Epoch 91/100\n",
      "1/1 [==============================] - 0s 5ms/step - loss: 4.8227e-04\n",
      "Epoch 92/100\n",
      "1/1 [==============================] - 0s 4ms/step - loss: 1.4601e-04\n",
      "Epoch 93/100\n",
      "1/1 [==============================] - 0s 7ms/step - loss: 3.6640e-04\n",
      "Epoch 94/100\n",
      "1/1 [==============================] - 0s 8ms/step - loss: 2.0990e-04\n",
      "Epoch 95/100\n",
      "1/1 [==============================] - 0s 8ms/step - loss: 6.4096e-04\n",
      "Epoch 96/100\n",
      "1/1 [==============================] - 0s 8ms/step - loss: 2.8038e-04\n",
      "Epoch 97/100\n",
      "1/1 [==============================] - 0s 6ms/step - loss: 8.5764e-04\n",
      "Epoch 98/100\n",
      "1/1 [==============================] - 0s 6ms/step - loss: 0.0011\n",
      "Epoch 99/100\n",
      "1/1 [==============================] - 0s 4ms/step - loss: 4.6730e-04\n",
      "Epoch 100/100\n",
      "1/1 [==============================] - 0s 8ms/step - loss: 7.5769e-04\n"
     ]
    },
    {
     "data": {
      "text/plain": [
       "<keras.src.callbacks.History at 0x25eaa45bb10>"
      ]
     },
     "execution_count": 18,
     "metadata": {},
     "output_type": "execute_result"
    }
   ],
   "source": [
    "model.fit(x,y, epochs = 100, verbose = 1)"
   ]
  },
  {
   "cell_type": "code",
   "execution_count": 20,
   "id": "b118bdce-ff52-465f-9b24-25fe4f286e7a",
   "metadata": {},
   "outputs": [
    {
     "name": "stdout",
     "output_type": "stream",
     "text": [
      "1/1 [==============================] - 0s 37ms/step\n"
     ]
    },
    {
     "data": {
      "text/plain": [
       "array([[34.998413]], dtype=float32)"
      ]
     },
     "execution_count": 20,
     "metadata": {},
     "output_type": "execute_result"
    }
   ],
   "source": [
    "model.predict([7])"
   ]
  },
  {
   "cell_type": "markdown",
   "id": "88477d27-b1f0-405f-830e-1139e398f937",
   "metadata": {},
   "source": [
    "## DNN data Tabular"
   ]
  },
  {
   "cell_type": "code",
   "execution_count": 24,
   "id": "d18661c1-9bf3-47f7-a3d8-e7e689930094",
   "metadata": {},
   "outputs": [],
   "source": [
    "from sklearn.datasets import load_breast_cancer\n",
    "from sklearn.model_selection import train_test_split"
   ]
  },
  {
   "cell_type": "code",
   "execution_count": 25,
   "id": "509b8c1e-6a37-476a-92a6-af087a4a2312",
   "metadata": {},
   "outputs": [],
   "source": [
    "X, y  = load_breast_cancer(return_X_y = True, as_frame = True)"
   ]
  },
  {
   "cell_type": "code",
   "execution_count": 26,
   "id": "63bd4549-a7bd-4279-b3b9-150b0e33cb1a",
   "metadata": {},
   "outputs": [],
   "source": [
    "X_train,X_test,y_train,y_test =train_test_split(X,y, test_size = 0.2, random_state = 42)"
   ]
  },
  {
   "cell_type": "code",
   "execution_count": 29,
   "id": "a28681ff-11b0-40cc-b4b0-8a6abe7d7d5f",
   "metadata": {},
   "outputs": [
    {
     "data": {
      "text/plain": [
       "(455, 30)"
      ]
     },
     "execution_count": 29,
     "metadata": {},
     "output_type": "execute_result"
    }
   ],
   "source": [
    "X_train.shape"
   ]
  },
  {
   "cell_type": "markdown",
   "id": "9f4743dc-4598-461a-8afb-499190764dcd",
   "metadata": {},
   "source": [
    "## Membuat Model"
   ]
  },
  {
   "cell_type": "code",
   "execution_count": 37,
   "id": "96460999-de08-4a8b-9a9f-75e048621e75",
   "metadata": {},
   "outputs": [],
   "source": [
    "model = Sequential([\n",
    "    layers.Dense(8, activation = 'relu', input_shape=[30]),\n",
    "    layers.Dense(16, activation = 'relu'),\n",
    "    layers.Dense(32, activation = 'relu'),\n",
    "    layers.Dense(1, activation = 'sigmoid'),\n",
    "    \n",
    "])"
   ]
  },
  {
   "cell_type": "code",
   "execution_count": 48,
   "id": "f4f23022-9246-4c46-bcf0-69877d624d10",
   "metadata": {},
   "outputs": [],
   "source": [
    "model.compile(optimizer='Adam', \n",
    "              loss = 'binary_crossentropy', \n",
    "              metrics = ['accuracy'])"
   ]
  },
  {
   "cell_type": "code",
   "execution_count": 49,
   "id": "a484c93d-036a-4a9a-9521-32c7e3900b17",
   "metadata": {},
   "outputs": [
    {
     "name": "stdout",
     "output_type": "stream",
     "text": [
      "Epoch 1/100\n",
      "12/12 [==============================] - 1s 13ms/step - loss: 20.9011 - accuracy: 0.3736 - val_loss: 13.6720 - val_accuracy: 0.3626\n",
      "Epoch 2/100\n",
      "12/12 [==============================] - 0s 3ms/step - loss: 8.0110 - accuracy: 0.3736 - val_loss: 2.1497 - val_accuracy: 0.3626\n",
      "Epoch 3/100\n",
      "12/12 [==============================] - 0s 3ms/step - loss: 0.9705 - accuracy: 0.7335 - val_loss: 1.9085 - val_accuracy: 0.7033\n",
      "Epoch 4/100\n",
      "12/12 [==============================] - 0s 3ms/step - loss: 0.8109 - accuracy: 0.8242 - val_loss: 0.3998 - val_accuracy: 0.8791\n",
      "Epoch 5/100\n",
      "12/12 [==============================] - 0s 3ms/step - loss: 0.3787 - accuracy: 0.8709 - val_loss: 0.4267 - val_accuracy: 0.8571\n",
      "Epoch 6/100\n",
      "12/12 [==============================] - 0s 5ms/step - loss: 0.2929 - accuracy: 0.8929 - val_loss: 0.5197 - val_accuracy: 0.8791\n",
      "Epoch 7/100\n",
      "12/12 [==============================] - 0s 3ms/step - loss: 0.2932 - accuracy: 0.9011 - val_loss: 0.4072 - val_accuracy: 0.8681\n",
      "Epoch 8/100\n",
      "12/12 [==============================] - 0s 3ms/step - loss: 0.2764 - accuracy: 0.9038 - val_loss: 0.3367 - val_accuracy: 0.8791\n",
      "Epoch 9/100\n",
      "12/12 [==============================] - 0s 3ms/step - loss: 0.2679 - accuracy: 0.9121 - val_loss: 0.3478 - val_accuracy: 0.8791\n",
      "Epoch 10/100\n",
      "12/12 [==============================] - 0s 3ms/step - loss: 0.2533 - accuracy: 0.9176 - val_loss: 0.3315 - val_accuracy: 0.8901\n",
      "Epoch 11/100\n",
      "12/12 [==============================] - 0s 4ms/step - loss: 0.2527 - accuracy: 0.9176 - val_loss: 0.3128 - val_accuracy: 0.8901\n",
      "Epoch 12/100\n",
      "12/12 [==============================] - 0s 4ms/step - loss: 0.2462 - accuracy: 0.9203 - val_loss: 0.3267 - val_accuracy: 0.8901\n",
      "Epoch 13/100\n",
      "12/12 [==============================] - 0s 4ms/step - loss: 0.2597 - accuracy: 0.9093 - val_loss: 0.2916 - val_accuracy: 0.8901\n",
      "Epoch 14/100\n",
      "12/12 [==============================] - 0s 4ms/step - loss: 0.2466 - accuracy: 0.9203 - val_loss: 0.3139 - val_accuracy: 0.8901\n",
      "Epoch 15/100\n",
      "12/12 [==============================] - 0s 4ms/step - loss: 0.2415 - accuracy: 0.9176 - val_loss: 0.2783 - val_accuracy: 0.9011\n",
      "Epoch 16/100\n",
      "12/12 [==============================] - 0s 3ms/step - loss: 0.2384 - accuracy: 0.9148 - val_loss: 0.2748 - val_accuracy: 0.9011\n",
      "Epoch 17/100\n",
      "12/12 [==============================] - 0s 4ms/step - loss: 0.2473 - accuracy: 0.9148 - val_loss: 0.3108 - val_accuracy: 0.9121\n",
      "Epoch 18/100\n",
      "12/12 [==============================] - 0s 4ms/step - loss: 0.2492 - accuracy: 0.9231 - val_loss: 0.2667 - val_accuracy: 0.8901\n",
      "Epoch 19/100\n",
      "12/12 [==============================] - 0s 4ms/step - loss: 0.2407 - accuracy: 0.9203 - val_loss: 0.2786 - val_accuracy: 0.9011\n",
      "Epoch 20/100\n",
      "12/12 [==============================] - 0s 4ms/step - loss: 0.2302 - accuracy: 0.9148 - val_loss: 0.2674 - val_accuracy: 0.9011\n",
      "Epoch 21/100\n",
      "12/12 [==============================] - 0s 4ms/step - loss: 0.2266 - accuracy: 0.9203 - val_loss: 0.2671 - val_accuracy: 0.9121\n",
      "Epoch 22/100\n",
      "12/12 [==============================] - 0s 4ms/step - loss: 0.2384 - accuracy: 0.9203 - val_loss: 0.2629 - val_accuracy: 0.8901\n",
      "Epoch 23/100\n",
      "12/12 [==============================] - 0s 4ms/step - loss: 0.2309 - accuracy: 0.9176 - val_loss: 0.2593 - val_accuracy: 0.9121\n",
      "Epoch 24/100\n",
      "12/12 [==============================] - 0s 4ms/step - loss: 0.2235 - accuracy: 0.9203 - val_loss: 0.2686 - val_accuracy: 0.8791\n",
      "Epoch 25/100\n",
      "12/12 [==============================] - 0s 4ms/step - loss: 0.2375 - accuracy: 0.9176 - val_loss: 0.2626 - val_accuracy: 0.9121\n",
      "Epoch 26/100\n",
      "12/12 [==============================] - 0s 4ms/step - loss: 0.2288 - accuracy: 0.9231 - val_loss: 0.2480 - val_accuracy: 0.8901\n",
      "Epoch 27/100\n",
      "12/12 [==============================] - 0s 4ms/step - loss: 0.2162 - accuracy: 0.9176 - val_loss: 0.2661 - val_accuracy: 0.9121\n",
      "Epoch 28/100\n",
      "12/12 [==============================] - 0s 3ms/step - loss: 0.2222 - accuracy: 0.9231 - val_loss: 0.2469 - val_accuracy: 0.8901\n",
      "Epoch 29/100\n",
      "12/12 [==============================] - 0s 4ms/step - loss: 0.2204 - accuracy: 0.9258 - val_loss: 0.2463 - val_accuracy: 0.8901\n",
      "Epoch 30/100\n",
      "12/12 [==============================] - 0s 3ms/step - loss: 0.2207 - accuracy: 0.9176 - val_loss: 0.2699 - val_accuracy: 0.9121\n",
      "Epoch 31/100\n",
      "12/12 [==============================] - 0s 4ms/step - loss: 0.2246 - accuracy: 0.9148 - val_loss: 0.2493 - val_accuracy: 0.8901\n",
      "Epoch 32/100\n",
      "12/12 [==============================] - 0s 3ms/step - loss: 0.2256 - accuracy: 0.9121 - val_loss: 0.2522 - val_accuracy: 0.9011\n",
      "Epoch 33/100\n",
      "12/12 [==============================] - 0s 5ms/step - loss: 0.2126 - accuracy: 0.9286 - val_loss: 0.2434 - val_accuracy: 0.8901\n",
      "Epoch 34/100\n",
      "12/12 [==============================] - 0s 4ms/step - loss: 0.2164 - accuracy: 0.9231 - val_loss: 0.2575 - val_accuracy: 0.9121\n",
      "Epoch 35/100\n",
      "12/12 [==============================] - 0s 4ms/step - loss: 0.2251 - accuracy: 0.9176 - val_loss: 0.2454 - val_accuracy: 0.8901\n",
      "Epoch 36/100\n",
      "12/12 [==============================] - 0s 4ms/step - loss: 0.2249 - accuracy: 0.9231 - val_loss: 0.2577 - val_accuracy: 0.9121\n",
      "Epoch 37/100\n",
      "12/12 [==============================] - 0s 4ms/step - loss: 0.2233 - accuracy: 0.9231 - val_loss: 0.2456 - val_accuracy: 0.9011\n",
      "Epoch 38/100\n",
      "12/12 [==============================] - 0s 4ms/step - loss: 0.2347 - accuracy: 0.9121 - val_loss: 0.2470 - val_accuracy: 0.8901\n",
      "Epoch 39/100\n",
      "12/12 [==============================] - 0s 4ms/step - loss: 0.2490 - accuracy: 0.9093 - val_loss: 0.2691 - val_accuracy: 0.9121\n",
      "Epoch 40/100\n",
      "12/12 [==============================] - 0s 3ms/step - loss: 0.2188 - accuracy: 0.9203 - val_loss: 0.2465 - val_accuracy: 0.8901\n",
      "Epoch 41/100\n",
      "12/12 [==============================] - 0s 4ms/step - loss: 0.2154 - accuracy: 0.9286 - val_loss: 0.2721 - val_accuracy: 0.9121\n",
      "Epoch 42/100\n",
      "12/12 [==============================] - 0s 3ms/step - loss: 0.2160 - accuracy: 0.9231 - val_loss: 0.2430 - val_accuracy: 0.8901\n",
      "Epoch 43/100\n",
      "12/12 [==============================] - 0s 3ms/step - loss: 0.2180 - accuracy: 0.9258 - val_loss: 0.2444 - val_accuracy: 0.8901\n",
      "Epoch 44/100\n",
      "12/12 [==============================] - 0s 4ms/step - loss: 0.2365 - accuracy: 0.9176 - val_loss: 0.2472 - val_accuracy: 0.9121\n",
      "Epoch 45/100\n",
      "12/12 [==============================] - 0s 4ms/step - loss: 0.2321 - accuracy: 0.8984 - val_loss: 0.2543 - val_accuracy: 0.9121\n",
      "Epoch 46/100\n",
      "12/12 [==============================] - 0s 4ms/step - loss: 0.2127 - accuracy: 0.9203 - val_loss: 0.2465 - val_accuracy: 0.9121\n",
      "Epoch 47/100\n",
      "12/12 [==============================] - 0s 4ms/step - loss: 0.2210 - accuracy: 0.9286 - val_loss: 0.2411 - val_accuracy: 0.8901\n",
      "Epoch 48/100\n",
      "12/12 [==============================] - 0s 4ms/step - loss: 0.2081 - accuracy: 0.9313 - val_loss: 0.2462 - val_accuracy: 0.9121\n",
      "Epoch 49/100\n",
      "12/12 [==============================] - 0s 4ms/step - loss: 0.2095 - accuracy: 0.9286 - val_loss: 0.2403 - val_accuracy: 0.9011\n",
      "Epoch 50/100\n",
      "12/12 [==============================] - 0s 4ms/step - loss: 0.2060 - accuracy: 0.9313 - val_loss: 0.2432 - val_accuracy: 0.9011\n",
      "Epoch 51/100\n",
      "12/12 [==============================] - 0s 4ms/step - loss: 0.2067 - accuracy: 0.9258 - val_loss: 0.2458 - val_accuracy: 0.9011\n",
      "Epoch 52/100\n",
      "12/12 [==============================] - 0s 4ms/step - loss: 0.2064 - accuracy: 0.9313 - val_loss: 0.2417 - val_accuracy: 0.9011\n",
      "Epoch 53/100\n",
      "12/12 [==============================] - 0s 4ms/step - loss: 0.2074 - accuracy: 0.9313 - val_loss: 0.2404 - val_accuracy: 0.8901\n",
      "Epoch 54/100\n",
      "12/12 [==============================] - 0s 4ms/step - loss: 0.2025 - accuracy: 0.9286 - val_loss: 0.2403 - val_accuracy: 0.8901\n",
      "Epoch 55/100\n",
      "12/12 [==============================] - 0s 4ms/step - loss: 0.2009 - accuracy: 0.9286 - val_loss: 0.2489 - val_accuracy: 0.9121\n",
      "Epoch 56/100\n",
      "12/12 [==============================] - 0s 4ms/step - loss: 0.2046 - accuracy: 0.9258 - val_loss: 0.2410 - val_accuracy: 0.8901\n",
      "Epoch 57/100\n",
      "12/12 [==============================] - 0s 3ms/step - loss: 0.2038 - accuracy: 0.9258 - val_loss: 0.2498 - val_accuracy: 0.9121\n",
      "Epoch 58/100\n",
      "12/12 [==============================] - 0s 4ms/step - loss: 0.2009 - accuracy: 0.9286 - val_loss: 0.2430 - val_accuracy: 0.8901\n",
      "Epoch 59/100\n",
      "12/12 [==============================] - 0s 4ms/step - loss: 0.2019 - accuracy: 0.9341 - val_loss: 0.2607 - val_accuracy: 0.9121\n",
      "Epoch 60/100\n",
      "12/12 [==============================] - 0s 4ms/step - loss: 0.2133 - accuracy: 0.9286 - val_loss: 0.2441 - val_accuracy: 0.9011\n",
      "Epoch 61/100\n",
      "12/12 [==============================] - 0s 4ms/step - loss: 0.1996 - accuracy: 0.9286 - val_loss: 0.2530 - val_accuracy: 0.9121\n",
      "Epoch 62/100\n",
      "12/12 [==============================] - 0s 4ms/step - loss: 0.2041 - accuracy: 0.9258 - val_loss: 0.2425 - val_accuracy: 0.9011\n",
      "Epoch 63/100\n",
      "12/12 [==============================] - 0s 4ms/step - loss: 0.2071 - accuracy: 0.9258 - val_loss: 0.2553 - val_accuracy: 0.9121\n",
      "Epoch 64/100\n",
      "12/12 [==============================] - 0s 3ms/step - loss: 0.1979 - accuracy: 0.9313 - val_loss: 0.2415 - val_accuracy: 0.8901\n",
      "Epoch 65/100\n",
      "12/12 [==============================] - 0s 4ms/step - loss: 0.2001 - accuracy: 0.9313 - val_loss: 0.2448 - val_accuracy: 0.9121\n",
      "Epoch 66/100\n",
      "12/12 [==============================] - 0s 4ms/step - loss: 0.2025 - accuracy: 0.9258 - val_loss: 0.2547 - val_accuracy: 0.9121\n",
      "Epoch 67/100\n",
      "12/12 [==============================] - 0s 4ms/step - loss: 0.2300 - accuracy: 0.9176 - val_loss: 0.2715 - val_accuracy: 0.8901\n",
      "Epoch 68/100\n",
      "12/12 [==============================] - 0s 4ms/step - loss: 0.1974 - accuracy: 0.9231 - val_loss: 0.2880 - val_accuracy: 0.9231\n",
      "Epoch 69/100\n",
      "12/12 [==============================] - 0s 4ms/step - loss: 0.2054 - accuracy: 0.9286 - val_loss: 0.2523 - val_accuracy: 0.8901\n",
      "Epoch 70/100\n",
      "12/12 [==============================] - 0s 4ms/step - loss: 0.1984 - accuracy: 0.9231 - val_loss: 0.2815 - val_accuracy: 0.9121\n",
      "Epoch 71/100\n",
      "12/12 [==============================] - 0s 4ms/step - loss: 0.2144 - accuracy: 0.9286 - val_loss: 0.2483 - val_accuracy: 0.9011\n",
      "Epoch 72/100\n",
      "12/12 [==============================] - 0s 5ms/step - loss: 0.2366 - accuracy: 0.9203 - val_loss: 0.2502 - val_accuracy: 0.8901\n",
      "Epoch 73/100\n",
      "12/12 [==============================] - 0s 3ms/step - loss: 0.2061 - accuracy: 0.9203 - val_loss: 0.2506 - val_accuracy: 0.9011\n",
      "Epoch 74/100\n",
      "12/12 [==============================] - 0s 4ms/step - loss: 0.1974 - accuracy: 0.9313 - val_loss: 0.2473 - val_accuracy: 0.9121\n",
      "Epoch 75/100\n",
      "12/12 [==============================] - 0s 3ms/step - loss: 0.1988 - accuracy: 0.9258 - val_loss: 0.2606 - val_accuracy: 0.9121\n",
      "Epoch 76/100\n",
      "12/12 [==============================] - 0s 4ms/step - loss: 0.2076 - accuracy: 0.9286 - val_loss: 0.2472 - val_accuracy: 0.9011\n",
      "Epoch 77/100\n",
      "12/12 [==============================] - 0s 4ms/step - loss: 0.1959 - accuracy: 0.9258 - val_loss: 0.2611 - val_accuracy: 0.9121\n",
      "Epoch 78/100\n",
      "12/12 [==============================] - 0s 3ms/step - loss: 0.1973 - accuracy: 0.9286 - val_loss: 0.2476 - val_accuracy: 0.8901\n",
      "Epoch 79/100\n",
      "12/12 [==============================] - 0s 3ms/step - loss: 0.1992 - accuracy: 0.9286 - val_loss: 0.2919 - val_accuracy: 0.9121\n",
      "Epoch 80/100\n",
      "12/12 [==============================] - 0s 4ms/step - loss: 0.1954 - accuracy: 0.9286 - val_loss: 0.2514 - val_accuracy: 0.8901\n",
      "Epoch 81/100\n",
      "12/12 [==============================] - 0s 4ms/step - loss: 0.2130 - accuracy: 0.9258 - val_loss: 0.2473 - val_accuracy: 0.9011\n",
      "Epoch 82/100\n",
      "12/12 [==============================] - 0s 4ms/step - loss: 0.2037 - accuracy: 0.9203 - val_loss: 0.2624 - val_accuracy: 0.9121\n",
      "Epoch 83/100\n",
      "12/12 [==============================] - 0s 3ms/step - loss: 0.2016 - accuracy: 0.9258 - val_loss: 0.2501 - val_accuracy: 0.8901\n",
      "Epoch 84/100\n",
      "12/12 [==============================] - 0s 4ms/step - loss: 0.1918 - accuracy: 0.9286 - val_loss: 0.2996 - val_accuracy: 0.9011\n",
      "Epoch 85/100\n",
      "12/12 [==============================] - 0s 3ms/step - loss: 0.2079 - accuracy: 0.9121 - val_loss: 0.2588 - val_accuracy: 0.8901\n",
      "Epoch 86/100\n",
      "12/12 [==============================] - 0s 4ms/step - loss: 0.2103 - accuracy: 0.9148 - val_loss: 0.2519 - val_accuracy: 0.9121\n",
      "Epoch 87/100\n",
      "12/12 [==============================] - 0s 4ms/step - loss: 0.1947 - accuracy: 0.9258 - val_loss: 0.2456 - val_accuracy: 0.9011\n",
      "Epoch 88/100\n",
      "12/12 [==============================] - 0s 4ms/step - loss: 0.1922 - accuracy: 0.9313 - val_loss: 0.2472 - val_accuracy: 0.9121\n",
      "Epoch 89/100\n",
      "12/12 [==============================] - 0s 4ms/step - loss: 0.1943 - accuracy: 0.9286 - val_loss: 0.2556 - val_accuracy: 0.9121\n",
      "Epoch 90/100\n",
      "12/12 [==============================] - 0s 3ms/step - loss: 0.1940 - accuracy: 0.9258 - val_loss: 0.2543 - val_accuracy: 0.9121\n",
      "Epoch 91/100\n",
      "12/12 [==============================] - 0s 4ms/step - loss: 0.2015 - accuracy: 0.9258 - val_loss: 0.2545 - val_accuracy: 0.9121\n",
      "Epoch 92/100\n",
      "12/12 [==============================] - 0s 3ms/step - loss: 0.2034 - accuracy: 0.9313 - val_loss: 0.2536 - val_accuracy: 0.8901\n",
      "Epoch 93/100\n",
      "12/12 [==============================] - 0s 3ms/step - loss: 0.2276 - accuracy: 0.9203 - val_loss: 0.2603 - val_accuracy: 0.9121\n",
      "Epoch 94/100\n",
      "12/12 [==============================] - 0s 3ms/step - loss: 0.2168 - accuracy: 0.9176 - val_loss: 0.2938 - val_accuracy: 0.9231\n",
      "Epoch 95/100\n",
      "12/12 [==============================] - 0s 6ms/step - loss: 0.2054 - accuracy: 0.9258 - val_loss: 0.2495 - val_accuracy: 0.8901\n",
      "Epoch 96/100\n",
      "12/12 [==============================] - 0s 4ms/step - loss: 0.1979 - accuracy: 0.9258 - val_loss: 0.2656 - val_accuracy: 0.9121\n",
      "Epoch 97/100\n",
      "12/12 [==============================] - 0s 3ms/step - loss: 0.1925 - accuracy: 0.9313 - val_loss: 0.2481 - val_accuracy: 0.9011\n",
      "Epoch 98/100\n",
      "12/12 [==============================] - 0s 3ms/step - loss: 0.1907 - accuracy: 0.9286 - val_loss: 0.2483 - val_accuracy: 0.9011\n",
      "Epoch 99/100\n",
      "12/12 [==============================] - 0s 4ms/step - loss: 0.1966 - accuracy: 0.9203 - val_loss: 0.2532 - val_accuracy: 0.9121\n",
      "Epoch 100/100\n",
      "12/12 [==============================] - 0s 4ms/step - loss: 0.2125 - accuracy: 0.9231 - val_loss: 0.2438 - val_accuracy: 0.9011\n"
     ]
    },
    {
     "data": {
      "text/plain": [
       "<keras.src.callbacks.History at 0x25eadde6a10>"
      ]
     },
     "execution_count": 49,
     "metadata": {},
     "output_type": "execute_result"
    }
   ],
   "source": [
    "model.fit(X_train, y_train, epochs = 100, validation_split = 0.2)"
   ]
  },
  {
   "cell_type": "code",
   "execution_count": 50,
   "id": "880f7d4c-e686-47e6-a065-ff40ea7997f4",
   "metadata": {},
   "outputs": [
    {
     "name": "stdout",
     "output_type": "stream",
     "text": [
      "4/4 [==============================] - 0s 1ms/step\n"
     ]
    }
   ],
   "source": [
    "y_pred = model.predict(X_test)"
   ]
  },
  {
   "cell_type": "code",
   "execution_count": 58,
   "id": "271ffbbf-20b9-48a5-b372-02395e09bba7",
   "metadata": {},
   "outputs": [
    {
     "data": {
      "text/plain": [
       "array([0., 0., 0., 1., 1., 0., 0., 0., 1., 1., 1., 0., 1., 0., 1., 0., 1.,\n",
       "       1., 1., 0., 0., 1., 0., 1., 1., 1., 1., 1., 1., 0., 1., 1., 1., 0.,\n",
       "       1., 1., 0., 1., 0., 1., 1., 0., 1., 1., 1., 1., 1., 1., 1., 1., 0.,\n",
       "       0., 1., 1., 1., 1., 1., 0., 1., 1., 1., 0., 0., 1., 1., 1., 0., 0.,\n",
       "       1., 1., 1., 0., 1., 1., 1., 1., 1., 0., 1., 1., 0., 1., 1., 0., 0.,\n",
       "       0., 0., 0., 1., 1., 1., 1., 1., 1., 1., 1., 0., 0., 1., 0., 0., 1.,\n",
       "       0., 0., 1., 1., 1., 0., 1., 1., 0., 1., 1., 0.])"
      ]
     },
     "execution_count": 58,
     "metadata": {},
     "output_type": "execute_result"
    }
   ],
   "source": [
    "y_pred = np.where(y_pred > 0.5, 1.0, 0).reshape(-1)\n",
    "y_pred"
   ]
  },
  {
   "cell_type": "code",
   "execution_count": 59,
   "id": "84521076-acd5-4807-8be0-f73f8b75f6fb",
   "metadata": {},
   "outputs": [
    {
     "name": "stdout",
     "output_type": "stream",
     "text": [
      "4/4 [==============================] - 0s 2ms/step - loss: 0.1254 - accuracy: 0.9474\n"
     ]
    },
    {
     "data": {
      "text/plain": [
       "[0.12542442977428436, 0.9473684430122375]"
      ]
     },
     "execution_count": 59,
     "metadata": {},
     "output_type": "execute_result"
    }
   ],
   "source": [
    "model.evaluate(X_test, y_test)"
   ]
  },
  {
   "cell_type": "code",
   "execution_count": 55,
   "id": "51db81f1-ad8c-4398-b1d5-eec2d6ad1e43",
   "metadata": {},
   "outputs": [],
   "source": [
    "from sklearn.metrics import accuracy_score"
   ]
  },
  {
   "cell_type": "code",
   "execution_count": 60,
   "id": "e3948d58-45db-465d-9146-efe021425756",
   "metadata": {},
   "outputs": [
    {
     "data": {
      "text/plain": [
       "0.9473684210526315"
      ]
     },
     "execution_count": 60,
     "metadata": {},
     "output_type": "execute_result"
    }
   ],
   "source": [
    "accuracy_score(y_test, y_pred)"
   ]
  },
  {
   "cell_type": "markdown",
   "id": "5594e2b0-b23e-4433-a421-22fa3ffafa07",
   "metadata": {},
   "source": [
    "## DNN IMAGE"
   ]
  },
  {
   "cell_type": "code",
   "execution_count": 78,
   "id": "9c1397e9-e78b-4acb-b916-c70dff9c9259",
   "metadata": {},
   "outputs": [],
   "source": [
    "from tensorflow.keras import datasets"
   ]
  },
  {
   "cell_type": "code",
   "execution_count": 79,
   "id": "083a913f-2b2a-4d43-9195-c93bd2b329c8",
   "metadata": {},
   "outputs": [],
   "source": [
    "(X_train, y_tain), (X_test, y_test) = datasets.mnist.load_data()"
   ]
  },
  {
   "cell_type": "code",
   "execution_count": 80,
   "id": "d7c9cca6-691d-4153-803e-1448338f2fcb",
   "metadata": {},
   "outputs": [],
   "source": [
    "import matplotlib.pyplot as plt"
   ]
  },
  {
   "cell_type": "code",
   "execution_count": 81,
   "id": "fe850eb4-c879-43f2-a4b6-a5153f13b90a",
   "metadata": {},
   "outputs": [
    {
     "data": {
      "image/png": "[encoded data removed]",
      "text/plain": [
       "<Figure size 640x480 with 8 Axes>"
      ]
     },
     "metadata": {},
     "output_type": "display_data"
    }
   ],
   "source": [
    "plt.figure()\n",
    "for i in range(1, 9):\n",
    "    plt.subplot(3, 3, i)\n",
    "    plt.imshow(X_train[1])\n",
    "    plt.axis('off')\n",
    "plt.show()"
   ]
  },
  {
   "cell_type": "code",
   "execution_count": 77,
   "id": "59e5b295-2f4f-408d-bd5c-c3e05890a133",
   "metadata": {},
   "outputs": [
    {
     "data": {
      "text/plain": [
       "(60000, 28, 28)"
      ]
     },
     "execution_count": 77,
     "metadata": {},
     "output_type": "execute_result"
    }
   ],
   "source": [
    "X_train.shape"
   ]
  },
  {
   "cell_type": "code",
   "execution_count": null,
   "id": "846c9d2f-11a5-4894-a9bb-27ea4754899c",
   "metadata": {},
   "outputs": [],
   "source": [
    "X_train = X_train"
   ]
  },
  {
   "cell_type": "code",
   "execution_count": null,
   "id": "4c6201cf-c646-47eb-90f8-feee97feb93a",
   "metadata": {},
   "outputs": [],
   "source": [
    "X_train = X_train/255\n",
    "X_test = X_test/255"
   ]
  },
  {
   "cell_type": "code",
   "execution_count": 84,
   "id": "aab25ded-b97d-45bc-a33b-e3d2445eb3af",
   "metadata": {},
   "outputs": [],
   "source": [
    "model = Sequential([\n",
    "    layers.Dense(128, activation= 'relu', input_shape=[784]),\n",
    "    layers.Dense(256, activation= 'relu'),\n",
    "    layers.Dense(128, activation= 'relu'),\n",
    "    layers.Dense(10, activation= 'softmax')\n",
    "])"
   ]
  },
  {
   "cell_type": "code",
   "execution_count": 86,
   "id": "f0a7c54d-2344-49f4-992b-1b8d1c1c1603",
   "metadata": {},
   "outputs": [],
   "source": [
    "model.compile(optimizer='Adam', \n",
    "              loss = 'sparse_categorical_crossentropy', \n",
    "              metrics = ['accuracy'])"
   ]
  },
  {
   "cell_type": "code",
   "execution_count": null,
   "id": "4e6270e9-41eb-417c-aa7c-834eefc585ac",
   "metadata": {},
   "outputs": [],
   "source": [
    "model.fit(X_train, y_train, epochs = 10, validation_split = 0.2, batch_size = 64, callbacks = callback)"
   ]
  }
 ],
 "metadata": {
  "kernelspec": {
   "display_name": "Python 3 (ipykernel)",
   "language": "python",
   "name": "python3"
  },
  "language_info": {
   "codemirror_mode": {
    "name": "ipython",
    "version": 3
   },
   "file_extension": ".py",
   "mimetype": "text/x-python",
   "name": "python",
   "nbconvert_exporter": "python",
   "pygments_lexer": "ipython3",
   "version": "3.11.5"
  }
 },
 "nbformat": 4,
 "nbformat_minor": 5
}
